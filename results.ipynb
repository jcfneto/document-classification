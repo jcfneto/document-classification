{
 "cells": [
  {
   "cell_type": "code",
   "execution_count": null,
   "id": "2cef04fa",
   "metadata": {
    "ExecuteTime": {
     "end_time": "2022-10-31T17:02:35.801174Z",
     "start_time": "2022-10-31T17:02:35.527471Z"
    },
    "pycharm": {
     "name": "#%%\n"
    }
   },
   "outputs": [],
   "source": [
    "import json\n",
    "\n",
    "import numpy as np\n",
    "import pandas as pd\n",
    "\n",
    "from collections import defaultdict"
   ]
  },
  {
   "cell_type": "markdown",
   "id": "369fb6b8",
   "metadata": {},
   "source": [
    "# 1. Results"
   ]
  },
  {
   "cell_type": "markdown",
   "id": "8a38b59d",
   "metadata": {},
   "source": [
    "## 1.1 KNN"
   ]
  },
  {
   "cell_type": "markdown",
   "id": "aa49ef63",
   "metadata": {},
   "source": [
    "## 1.1.1 BERT"
   ]
  },
  {
   "cell_type": "code",
   "execution_count": null,
   "id": "6c940390",
   "metadata": {
    "ExecuteTime": {
     "end_time": "2022-10-31T17:02:35.805420Z",
     "start_time": "2022-10-31T17:02:35.802137Z"
    },
    "pycharm": {
     "name": "#%%\n"
    }
   },
   "outputs": [],
   "source": [
    "# reading KNN-BERT results\n",
    "with open('output/results/knn/bert_results.json', 'r') as f:\n",
    "    result = json.loads(f.read())"
   ]
  },
  {
   "cell_type": "code",
   "execution_count": null,
   "id": "a71a1262",
   "metadata": {
    "ExecuteTime": {
     "end_time": "2022-10-31T17:02:35.818069Z",
     "start_time": "2022-10-31T17:02:35.807614Z"
    },
    "pycharm": {
     "name": "#%%\n"
    }
   },
   "outputs": [],
   "source": [
    "# computing the averages\n",
    "bert_results = defaultdict(lambda: defaultdict(float))\n",
    "for ki in result.keys():\n",
    "    for kj in result[ki].keys():\n",
    "        bert_results[ki][kj] = np.mean(result[ki][kj])"
   ]
  },
  {
   "cell_type": "code",
   "execution_count": null,
   "id": "d85362b4",
   "metadata": {
    "ExecuteTime": {
     "end_time": "2022-10-31T17:02:35.835628Z",
     "start_time": "2022-10-31T17:02:35.819138Z"
    },
    "pycharm": {
     "name": "#%%\n"
    }
   },
   "outputs": [],
   "source": [
    "# weighting f1 micro and f1 macro\n",
    "bert_results = pd.DataFrame(bert_results).T.reset_index()\n",
    "bert_results['weighted'] = bert_results.micro * bert_results.macro\n",
    "bert_results = bert_results.sort_values('weighted', ascending=False)\n",
    "bert_results.head()"
   ]
  },
  {
   "cell_type": "markdown",
   "id": "1c81539c",
   "metadata": {},
   "source": [
    "The selected configuration is:\n",
    "\n",
    "- n_neighbors = 8\n",
    "- weights = uniform\n",
    "- metric = cosine"
   ]
  },
  {
   "cell_type": "markdown",
   "id": "bd23172b",
   "metadata": {},
   "source": [
    "## 1.1.2 TF-IDF"
   ]
  },
  {
   "cell_type": "code",
   "execution_count": null,
   "id": "ee21daa5",
   "metadata": {
    "ExecuteTime": {
     "end_time": "2022-10-31T17:09:01.261038Z",
     "start_time": "2022-10-31T17:09:01.255531Z"
    }
   },
   "outputs": [],
   "source": [
    "# reading KNN-BERT results\n",
    "with open('output/results/knn/tf_idf_results.json', 'r') as f:\n",
    "    result = json.loads(f.read())"
   ]
  },
  {
   "cell_type": "code",
   "execution_count": null,
   "id": "d347761c",
   "metadata": {
    "ExecuteTime": {
     "end_time": "2022-10-31T17:09:16.086231Z",
     "start_time": "2022-10-31T17:09:16.080370Z"
    }
   },
   "outputs": [],
   "source": [
    "# computing the averages\n",
    "tfidf_results = defaultdict(lambda: defaultdict(float))\n",
    "for ki in result.keys():\n",
    "    for kj in result[ki].keys():\n",
    "        tfidf_results[ki][kj] = np.mean(result[ki][kj])"
   ]
  },
  {
   "cell_type": "code",
   "execution_count": null,
   "id": "c3fd276b",
   "metadata": {
    "ExecuteTime": {
     "end_time": "2022-10-31T17:09:29.788862Z",
     "start_time": "2022-10-31T17:09:29.776534Z"
    }
   },
   "outputs": [],
   "source": [
    "# weighting f1 micro and f1 macro\n",
    "tfidf_results = pd.DataFrame(tfidf_results).T.reset_index()\n",
    "tfidf_results['weighted'] = tfidf_results.micro * tfidf_results.macro\n",
    "tfidf_results = tfidf_results.sort_values('weighted', ascending=False)\n",
    "tfidf_results.head()"
   ]
  },
  {
   "cell_type": "markdown",
   "id": "4adb1ed0",
   "metadata": {},
   "source": [
    "The selected configuration is:\n",
    "\n",
    "- n_neighbors = 11\n",
    "- weights = uniform\n",
    "- metric = euclidean"
   ]
  },
  {
   "cell_type": "code",
   "execution_count": null,
   "id": "9f9d8926",
   "metadata": {},
   "outputs": [],
   "source": []
  },
  {
   "cell_type": "code",
   "execution_count": null,
   "id": "f3d841d6",
   "metadata": {},
   "outputs": [],
   "source": []
  },
  {
   "cell_type": "code",
   "execution_count": null,
   "id": "d8561a46",
   "metadata": {},
   "outputs": [],
   "source": []
  },
  {
   "cell_type": "code",
   "execution_count": null,
   "id": "1b2eaa82",
   "metadata": {},
   "outputs": [],
   "source": []
  },
  {
   "cell_type": "code",
   "execution_count": null,
   "id": "9200a883",
   "metadata": {},
   "outputs": [],
   "source": []
  },
  {
   "cell_type": "code",
   "execution_count": null,
   "id": "b3c1d8fe",
   "metadata": {},
   "outputs": [],
   "source": []
  },
  {
   "cell_type": "code",
   "execution_count": null,
   "id": "ec15fc93",
   "metadata": {},
   "outputs": [],
   "source": []
  },
  {
   "cell_type": "code",
   "execution_count": null,
   "id": "9386f60f",
   "metadata": {},
   "outputs": [],
   "source": []
  },
  {
   "cell_type": "code",
   "execution_count": null,
   "id": "39999596",
   "metadata": {},
   "outputs": [],
   "source": []
  }
 ],
 "metadata": {
  "hide_input": false,
  "kernelspec": {
   "display_name": "Python 3 (ipykernel)",
   "language": "python",
   "name": "python3"
  },
  "language_info": {
   "codemirror_mode": {
    "name": "ipython",
    "version": 3
   },
   "file_extension": ".py",
   "mimetype": "text/x-python",
   "name": "python",
   "nbconvert_exporter": "python",
   "pygments_lexer": "ipython3",
   "version": "3.9.7"
  }
 },
 "nbformat": 4,
 "nbformat_minor": 5
}
