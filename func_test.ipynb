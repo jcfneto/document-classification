{
 "cells": [
  {
   "cell_type": "code",
   "execution_count": 1,
   "id": "be7a3f07",
   "metadata": {
    "ExecuteTime": {
     "end_time": "2022-10-24T13:27:21.532570Z",
     "start_time": "2022-10-24T13:27:19.694169Z"
    },
    "pycharm": {
     "is_executing": true
    }
   },
   "outputs": [],
   "source": [
    "import itertools\n",
    "\n",
    "import polars as pl\n",
    "\n",
    "from sklearn.neighbors import KNeighborsClassifier"
   ]
  },
  {
   "cell_type": "raw",
   "id": "f7a1eaf1",
   "metadata": {
    "ExecuteTime": {
     "end_time": "2022-10-20T17:53:34.043132Z",
     "start_time": "2022-10-20T17:53:33.843973Z"
    }
   },
   "source": [
    "# reading data [BERT]\n",
    "train_bert = pl.read_csv('output/bert/train.csv').to_pandas()\n",
    "test_bert = pl.read_csv('output/bert/test.csv').to_pandas()\n",
    "train_bert.shape, test_bert.shape"
   ]
  },
  {
   "cell_type": "markdown",
   "id": "816712ea",
   "metadata": {},
   "source": [
    "# 1. Modeling"
   ]
  },
  {
   "cell_type": "markdown",
   "id": "46116db0",
   "metadata": {},
   "source": [
    "## 1.1 TF-IDF"
   ]
  },
  {
   "cell_type": "code",
   "execution_count": 2,
   "id": "111b971e",
   "metadata": {
    "ExecuteTime": {
     "end_time": "2022-10-24T13:27:51.902640Z",
     "start_time": "2022-10-24T13:27:41.488934Z"
    },
    "pycharm": {
     "name": "#%%\n"
    }
   },
   "outputs": [
    {
     "data": {
      "text/plain": [
       "((11413, 28651), (4024, 28651))"
      ]
     },
     "execution_count": 2,
     "metadata": {},
     "output_type": "execute_result"
    }
   ],
   "source": [
    "# reading data [TF-IDF]\n",
    "train_tfidf = pl.read_csv('output/tf_idf/train.csv').to_pandas()\n",
    "test_tfidf = pl.read_csv('output/tf_idf/test.csv').to_pandas()\n",
    "train_tfidf.shape, test_tfidf.shape"
   ]
  },
  {
   "cell_type": "markdown",
   "id": "7b48c894",
   "metadata": {},
   "source": [
    "### 1.1.1 KNN"
   ]
  },
  {
   "cell_type": "code",
   "execution_count": 3,
   "id": "9dd2caac",
   "metadata": {
    "ExecuteTime": {
     "end_time": "2022-10-24T13:27:51.906005Z",
     "start_time": "2022-10-24T13:27:51.903791Z"
    }
   },
   "outputs": [],
   "source": [
    "import time\n",
    "\n",
    "from collections import defaultdict\n",
    "\n",
    "from sklearn.metrics import f1_score\n",
    "from sklearn.model_selection import KFold"
   ]
  },
  {
   "cell_type": "code",
   "execution_count": 30,
   "id": "93183ba3",
   "metadata": {
    "ExecuteTime": {
     "end_time": "2022-10-24T13:53:18.401781Z",
     "start_time": "2022-10-24T13:53:18.398692Z"
    }
   },
   "outputs": [],
   "source": [
    "# defining estimator\n",
    "knn = KNeighborsClassifier()\n",
    "\n",
    "# defining parameters grid\n",
    "knn_params = {\n",
    "    'n_neighbors': range(3, 5),\n",
    "    'metric': ('cosine', 'euclidean'),\n",
    "    'weights': ('uniform', 'distance'),\n",
    "    'metrics': ('cosine', 'euclidean', 'manhattan'),\n",
    "}"
   ]
  },
  {
   "cell_type": "code",
   "execution_count": 31,
   "id": "a69a3229",
   "metadata": {
    "ExecuteTime": {
     "end_time": "2022-10-24T13:53:18.661671Z",
     "start_time": "2022-10-24T13:53:18.659127Z"
    }
   },
   "outputs": [],
   "source": [
    "knn_params = list(itertools.product(*[knn_params[k] for k in knn_params]))"
   ]
  },
  {
   "cell_type": "code",
   "execution_count": 22,
   "id": "d5174e0b",
   "metadata": {
    "ExecuteTime": {
     "end_time": "2022-10-24T13:38:00.610943Z",
     "start_time": "2022-10-24T13:38:00.607549Z"
    }
   },
   "outputs": [],
   "source": [
    "def f1(y_true, y_pred, results):\n",
    "    \"\"\"...\"\"\"\n",
    "    metrics = [('f1', None), ('f1_micro', 'micro'), ('f1_macro', 'macro')]\n",
    "    for k, f in metrics:\n",
    "        score = f1_score(y_true, y_pred, average=f)\n",
    "        results[k].append(score)\n",
    "    return results"
   ]
  },
  {
   "cell_type": "code",
   "execution_count": 23,
   "id": "e7b1f8b2",
   "metadata": {
    "ExecuteTime": {
     "end_time": "2022-10-24T13:38:00.834755Z",
     "start_time": "2022-10-24T13:38:00.829467Z"
    }
   },
   "outputs": [],
   "source": [
    "def kfold(estimator, X, y, cv):\n",
    "\n",
    "    results = defaultdict(list)\n",
    "\n",
    "    for i, j in cv.split(X):\n",
    "\n",
    "        # spliting data\n",
    "        X_train, y_train = X[i,:], y[i]\n",
    "        X_test, y_test = X[j,:], y[j]\n",
    "\n",
    "        # training and predictions\n",
    "        start = time.time()\n",
    "        estimator.fit(X_train, y_train)\n",
    "        pred = estimator.predict(X_test)\n",
    "        end = time.time()\n",
    "\n",
    "        # validating\n",
    "        results['exec_time'] = end-start\n",
    "        results = f1(y_test, pred, results)\n",
    "\n",
    "    return results, exec_time"
   ]
  },
  {
   "cell_type": "code",
   "execution_count": 44,
   "id": "2a9005f3",
   "metadata": {
    "ExecuteTime": {
     "end_time": "2022-10-24T14:28:49.396515Z",
     "start_time": "2022-10-24T14:27:55.696543Z"
    }
   },
   "outputs": [],
   "source": [
    "kf = KFold(n_splits=5, shuffle=True)\n",
    "a = kfold(\n",
    "    KNeighborsClassifier(n_neighbors=3, metric='euclidean'),\n",
    "    train_tfidf.iloc[:, 2:].values,\n",
    "    train_tfidf.iloc[:, 0].values,\n",
    "    kf)"
   ]
  },
  {
   "cell_type": "code",
   "execution_count": 45,
   "id": "2131c7c2",
   "metadata": {
    "ExecuteTime": {
     "end_time": "2022-10-24T14:28:49.410323Z",
     "start_time": "2022-10-24T14:28:49.400915Z"
    }
   },
   "outputs": [
    {
     "data": {
      "text/plain": [
       "(defaultdict(list,\n",
       "             {'f1': [array([0.76220472, 0.57142857, 0.06896552, 0.14634146, 0.29411765,\n",
       "                      0.        , 0.63157895, 0.5       , 0.62745098, 0.66666667,\n",
       "                      0.14285714, 0.19047619, 0.        , 0.45      , 0.        ,\n",
       "                      0.62295082, 0.        , 0.19672131, 0.        , 0.91545687,\n",
       "                      0.66666667, 0.22222222, 0.31111111, 0.59574468, 0.18181818,\n",
       "                      0.        , 1.        , 0.28571429, 1.        , 0.        ,\n",
       "                      0.66666667, 0.43939394, 0.66666667, 0.33333333, 0.        ,\n",
       "                      0.66666667, 0.        , 0.        , 0.        , 0.14814815,\n",
       "                      0.        , 0.33333333, 0.45522388, 0.70833333, 0.        ,\n",
       "                      0.11764706, 0.        , 0.        , 0.08888889, 0.4       ,\n",
       "                      0.28571429, 0.        , 0.        , 0.        , 0.        ,\n",
       "                      0.55555556, 0.5       , 0.10526316, 0.8       , 0.        ,\n",
       "                      0.51851852, 0.        , 0.        , 0.        , 0.        ,\n",
       "                      0.        , 0.5       , 0.9       , 0.        , 0.        ,\n",
       "                      0.        , 0.        , 1.        , 0.53658537, 0.82320442,\n",
       "                      0.15384615, 0.03846154, 0.4       , 0.        , 0.        ]),\n",
       "               array([0.73482428, 0.84210526, 0.1       , 0.30769231, 0.14814815,\n",
       "                      0.52173913, 0.        , 0.        , 0.51162791, 0.52173913,\n",
       "                      0.        , 0.18791946, 0.2962963 , 0.48979592, 0.        ,\n",
       "                      0.64444444, 0.18918919, 0.        , 0.90390879, 0.        ,\n",
       "                      0.14285714, 0.31818182, 0.5       , 0.11180124, 0.        ,\n",
       "                      0.        , 0.        , 0.66666667, 0.5       , 0.        ,\n",
       "                      0.        , 0.464     , 0.76923077, 0.28571429, 0.66666667,\n",
       "                      0.        , 0.        , 0.85714286, 0.30769231, 0.        ,\n",
       "                      0.        , 0.36923077, 0.65454545, 0.24      , 0.        ,\n",
       "                      0.        , 0.0952381 , 0.85714286, 0.        , 0.        ,\n",
       "                      0.4       , 0.        , 0.        , 0.        , 0.        ,\n",
       "                      0.63636364, 0.54545455, 0.        , 0.66666667, 0.48484848,\n",
       "                      0.        , 0.        , 0.        , 0.        , 0.        ,\n",
       "                      0.        , 0.62962963, 0.        , 0.        , 0.        ,\n",
       "                      0.66666667, 0.42622951, 0.8005698 , 0.14285714, 0.03278689,\n",
       "                      0.4       , 0.        , 0.        ]),\n",
       "               array([0.76435045, 0.57142857, 0.12244898, 0.22641509, 0.13333333,\n",
       "                      0.88888889, 0.        , 0.        , 0.74193548, 0.42857143,\n",
       "                      0.12068966, 0.22222222, 0.4       , 0.        , 0.61016949,\n",
       "                      0.        , 0.12698413, 0.        , 0.91022222, 0.4       ,\n",
       "                      0.26666667, 0.5       , 0.53333333, 0.10909091, 0.        ,\n",
       "                      1.        , 0.        , 0.8       , 0.        , 0.66666667,\n",
       "                      0.34782609, 0.60869565, 0.5       , 0.66666667, 0.75      ,\n",
       "                      0.        , 0.        , 0.        , 0.        , 0.8       ,\n",
       "                      0.        , 0.41071429, 0.73972603, 0.08      , 0.        ,\n",
       "                      0.10526316, 0.33333333, 0.2       , 0.        , 0.        ,\n",
       "                      0.        , 0.        , 0.        , 0.        , 0.25      ,\n",
       "                      0.        , 0.18181818, 0.66666667, 0.43243243, 0.        ,\n",
       "                      0.        , 0.        , 0.        , 0.        , 0.5       ,\n",
       "                      0.78947368, 0.        , 0.        , 0.88888889, 0.50393701,\n",
       "                      0.80972818, 0.09090909, 0.        , 0.        , 0.        ,\n",
       "                      0.4       ]),\n",
       "               array([0.77370031, 0.61538462, 0.06666667, 0.24      , 0.22222222,\n",
       "                      0.        , 0.75      , 0.        , 0.69090909, 0.57142857,\n",
       "                      0.        , 0.16793893, 0.10526316, 0.        , 0.4       ,\n",
       "                      0.        , 0.56050955, 0.        , 0.07692308, 0.        ,\n",
       "                      0.9092423 , 0.        , 0.        , 0.52830189, 0.59090909,\n",
       "                      0.17582418, 0.        , 0.44444444, 0.4       , 0.5       ,\n",
       "                      1.        , 0.        , 0.42105263, 0.375     , 0.54545455,\n",
       "                      0.        , 0.63157895, 0.        , 0.        , 1.        ,\n",
       "                      0.        , 0.17391304, 0.28571429, 0.41921397, 0.62857143,\n",
       "                      0.        , 0.28571429, 0.        , 0.        , 0.        ,\n",
       "                      0.        , 0.06060606, 0.        , 0.        , 0.        ,\n",
       "                      0.        , 0.        , 0.33333333, 0.85714286, 0.        ,\n",
       "                      0.92307692, 0.44067797, 0.44444444, 0.        , 0.        ,\n",
       "                      0.        , 0.        , 0.        , 0.8372093 , 0.        ,\n",
       "                      0.        , 0.        , 0.8       , 0.58536585, 0.81620839,\n",
       "                      0.        , 0.        , 0.5       , 0.        , 0.        ]),\n",
       "               array([0.78823529, 0.58823529, 0.06451613, 0.16326531, 0.22222222,\n",
       "                      0.        , 0.60869565, 0.        , 0.        , 0.63333333,\n",
       "                      0.53333333, 0.        , 0.13207547, 0.42857143, 0.5106383 ,\n",
       "                      0.        , 0.53503185, 0.        , 0.10169492, 0.        ,\n",
       "                      0.90537084, 0.5       , 0.        , 0.48648649, 0.77272727,\n",
       "                      0.22727273, 0.        , 0.        , 0.        , 0.75      ,\n",
       "                      0.8       , 0.        , 0.66666667, 0.45333333, 0.36363636,\n",
       "                      0.57142857, 0.8       , 0.        , 0.        , 0.5       ,\n",
       "                      0.11764706, 0.57142857, 0.        , 0.40552995, 0.63414634,\n",
       "                      0.14285714, 0.        , 0.25      , 0.85714286, 0.19047619,\n",
       "                      0.        , 0.        , 0.        , 0.        , 0.64      ,\n",
       "                      0.5       , 0.        , 0.66666667, 0.64      , 0.5       ,\n",
       "                      0.        , 0.        , 0.        , 0.        , 0.8       ,\n",
       "                      0.68292683, 0.        , 0.        , 0.88888889, 0.61788618,\n",
       "                      0.79889043, 0.07142857, 0.        , 0.5       , 0.        ,\n",
       "                      0.        ])],\n",
       "              'f1_micro': [0.6412614980289093,\n",
       "               0.6219886114761279,\n",
       "               0.624616732369689,\n",
       "               0.6349693251533742,\n",
       "               0.6463628396143734],\n",
       "              'f1_macro': [0.28989931146120307,\n",
       "               0.25689248940016063,\n",
       "               0.28420390622547503,\n",
       "               0.2644243295591682,\n",
       "               0.3102985062066478]}),\n",
       " [8.074769020080566,\n",
       "  7.70315957069397,\n",
       "  7.707856178283691,\n",
       "  7.730325222015381,\n",
       "  7.748808860778809])"
      ]
     },
     "execution_count": 45,
     "metadata": {},
     "output_type": "execute_result"
    }
   ],
   "source": [
    "a"
   ]
  },
  {
   "cell_type": "code",
   "execution_count": null,
   "id": "5f7201fc",
   "metadata": {
    "ExecuteTime": {
     "end_time": "2022-10-22T15:04:39.744772Z",
     "start_time": "2022-10-22T15:04:11.675825Z"
    }
   },
   "outputs": [],
   "source": [
    "f1_scores = [('f1', None), ('f1_micro', 'micro'), ('f1_macro', 'macro')]\n",
    "\n",
    "kf = KFold(n_splits=10, shuffle=True)\n",
    "\n",
    "for k, m in knn_params:\n",
    "\n",
    "    knn = KNeighborsClassifier(n_neighbors=k, metric=m)\n",
    "    \n",
    "    results = {'f1': [], 'f1_macro': [], 'f1_micro': []}\n",
    "\n",
    "    for train, test in kf.split(train_tfidf):\n",
    "\n",
    "        start = time.time()\n",
    "        \n",
    "        X_train, y_train = train_tfidf.iloc[train, 2:].values, train_tfidf.iloc[train, 0].values\n",
    "        X_test, y_test = train_tfidf.iloc[test, 2:].values, train_tfidf.iloc[test, 0].values\n",
    "\n",
    "        knn.fit(X_train, y_train)\n",
    "        \n",
    "        end = time.time()\n",
    "        \n",
    "        pred = knn.predict(X_test)\n",
    "        \n",
    "        print(f'tempo de execução = {end - start}')\n",
    "\n",
    "        for k, f in f1_scores:\n",
    "            score = f1_score(y_test, pred, average=f)\n",
    "            results[k].append(score)\n",
    "\n",
    "    print('_' * 80)\n",
    "    break"
   ]
  },
  {
   "cell_type": "code",
   "execution_count": null,
   "id": "30dd84a5",
   "metadata": {},
   "outputs": [],
   "source": []
  },
  {
   "cell_type": "code",
   "execution_count": null,
   "id": "d6b5998b",
   "metadata": {},
   "outputs": [],
   "source": []
  },
  {
   "cell_type": "code",
   "execution_count": null,
   "id": "43ef298a",
   "metadata": {},
   "outputs": [],
   "source": []
  },
  {
   "cell_type": "code",
   "execution_count": null,
   "id": "981a6522",
   "metadata": {},
   "outputs": [],
   "source": []
  },
  {
   "cell_type": "code",
   "execution_count": null,
   "id": "cf484c66",
   "metadata": {},
   "outputs": [],
   "source": []
  },
  {
   "cell_type": "code",
   "execution_count": null,
   "id": "d651c6e1",
   "metadata": {},
   "outputs": [],
   "source": []
  },
  {
   "cell_type": "code",
   "execution_count": null,
   "id": "f124fd2a",
   "metadata": {},
   "outputs": [],
   "source": []
  },
  {
   "cell_type": "code",
   "execution_count": null,
   "id": "f9cb2e49",
   "metadata": {},
   "outputs": [],
   "source": []
  },
  {
   "cell_type": "code",
   "execution_count": null,
   "id": "03c2ece9",
   "metadata": {},
   "outputs": [],
   "source": []
  },
  {
   "cell_type": "code",
   "execution_count": null,
   "id": "5891c5b1",
   "metadata": {},
   "outputs": [],
   "source": []
  },
  {
   "cell_type": "code",
   "execution_count": null,
   "id": "583feb72",
   "metadata": {},
   "outputs": [],
   "source": []
  },
  {
   "cell_type": "code",
   "execution_count": null,
   "id": "3fb0e409",
   "metadata": {},
   "outputs": [],
   "source": []
  },
  {
   "cell_type": "code",
   "execution_count": null,
   "id": "caff5150",
   "metadata": {},
   "outputs": [],
   "source": []
  },
  {
   "cell_type": "code",
   "execution_count": null,
   "id": "c5675b97",
   "metadata": {},
   "outputs": [],
   "source": []
  },
  {
   "cell_type": "code",
   "execution_count": null,
   "id": "9b1a4965",
   "metadata": {},
   "outputs": [],
   "source": []
  },
  {
   "cell_type": "code",
   "execution_count": null,
   "id": "89337a79",
   "metadata": {},
   "outputs": [],
   "source": []
  }
 ],
 "metadata": {
  "hide_input": false,
  "kernelspec": {
   "display_name": "Python 3 (ipykernel)",
   "language": "python",
   "name": "python3"
  },
  "language_info": {
   "codemirror_mode": {
    "name": "ipython",
    "version": 3
   },
   "file_extension": ".py",
   "mimetype": "text/x-python",
   "name": "python",
   "nbconvert_exporter": "python",
   "pygments_lexer": "ipython3",
   "version": "3.9.7"
  }
 },
 "nbformat": 4,
 "nbformat_minor": 5
}