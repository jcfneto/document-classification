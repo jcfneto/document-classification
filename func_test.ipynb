{
 "cells": [
  {
   "cell_type": "code",
   "execution_count": 1,
   "id": "2cef04fa",
   "metadata": {
    "ExecuteTime": {
     "end_time": "2022-10-31T17:02:35.801174Z",
     "start_time": "2022-10-31T17:02:35.527471Z"
    },
    "pycharm": {
     "name": "#%%\n"
    }
   },
   "outputs": [],
   "source": [
    "import json\n",
    "\n",
    "import numpy as np\n",
    "import pandas as pd\n",
    "\n",
    "from collections import defaultdict"
   ]
  },
  {
   "cell_type": "markdown",
   "id": "369fb6b8",
   "metadata": {},
   "source": [
    "# 1. Results"
   ]
  },
  {
   "cell_type": "markdown",
   "id": "8a38b59d",
   "metadata": {},
   "source": [
    "## 1.1 KNN"
   ]
  },
  {
   "cell_type": "markdown",
   "id": "aa49ef63",
   "metadata": {},
   "source": [
    "## 1.1.1 BERT"
   ]
  },
  {
   "cell_type": "code",
   "execution_count": 2,
   "id": "6c940390",
   "metadata": {
    "ExecuteTime": {
     "end_time": "2022-10-31T17:02:35.805420Z",
     "start_time": "2022-10-31T17:02:35.802137Z"
    },
    "pycharm": {
     "name": "#%%\n"
    }
   },
   "outputs": [],
   "source": [
    "# reading KNN-BERT results\n",
    "with open('output/results/knn/bert_results.json', 'r') as f:\n",
    "    result = json.loads(f.read())"
   ]
  },
  {
   "cell_type": "code",
   "execution_count": 3,
   "id": "a71a1262",
   "metadata": {
    "ExecuteTime": {
     "end_time": "2022-10-31T17:02:35.818069Z",
     "start_time": "2022-10-31T17:02:35.807614Z"
    },
    "pycharm": {
     "name": "#%%\n"
    }
   },
   "outputs": [],
   "source": [
    "# computing the averages\n",
    "bert_results = defaultdict(lambda: defaultdict(float))\n",
    "for ki in result.keys():\n",
    "    for kj in result[ki].keys():\n",
    "        bert_results[ki][kj] = np.mean(result[ki][kj])"
   ]
  },
  {
   "cell_type": "code",
   "execution_count": 4,
   "id": "d85362b4",
   "metadata": {
    "ExecuteTime": {
     "end_time": "2022-10-31T17:02:35.835628Z",
     "start_time": "2022-10-31T17:02:35.819138Z"
    },
    "pycharm": {
     "name": "#%%\n"
    }
   },
   "outputs": [
    {
     "data": {
      "text/html": [
       "<div>\n",
       "<style scoped>\n",
       "    .dataframe tbody tr th:only-of-type {\n",
       "        vertical-align: middle;\n",
       "    }\n",
       "\n",
       "    .dataframe tbody tr th {\n",
       "        vertical-align: top;\n",
       "    }\n",
       "\n",
       "    .dataframe thead th {\n",
       "        text-align: right;\n",
       "    }\n",
       "</style>\n",
       "<table border=\"1\" class=\"dataframe\">\n",
       "  <thead>\n",
       "    <tr style=\"text-align: right;\">\n",
       "      <th></th>\n",
       "      <th>index</th>\n",
       "      <th>exec_time</th>\n",
       "      <th>micro</th>\n",
       "      <th>macro</th>\n",
       "      <th>weighted</th>\n",
       "    </tr>\n",
       "  </thead>\n",
       "  <tbody>\n",
       "    <tr>\n",
       "      <th>20</th>\n",
       "      <td>8 - uniform - cosine</td>\n",
       "      <td>0.486794</td>\n",
       "      <td>0.720933</td>\n",
       "      <td>0.332710</td>\n",
       "      <td>0.239862</td>\n",
       "    </tr>\n",
       "    <tr>\n",
       "      <th>28</th>\n",
       "      <td>10 - uniform - cosine</td>\n",
       "      <td>0.473595</td>\n",
       "      <td>0.724000</td>\n",
       "      <td>0.327346</td>\n",
       "      <td>0.236999</td>\n",
       "    </tr>\n",
       "    <tr>\n",
       "      <th>24</th>\n",
       "      <td>9 - uniform - cosine</td>\n",
       "      <td>0.484678</td>\n",
       "      <td>0.721894</td>\n",
       "      <td>0.326840</td>\n",
       "      <td>0.235943</td>\n",
       "    </tr>\n",
       "    <tr>\n",
       "      <th>36</th>\n",
       "      <td>12 - uniform - cosine</td>\n",
       "      <td>0.471226</td>\n",
       "      <td>0.727504</td>\n",
       "      <td>0.323873</td>\n",
       "      <td>0.235619</td>\n",
       "    </tr>\n",
       "    <tr>\n",
       "      <th>44</th>\n",
       "      <td>14 - uniform - cosine</td>\n",
       "      <td>0.466985</td>\n",
       "      <td>0.729608</td>\n",
       "      <td>0.319086</td>\n",
       "      <td>0.232808</td>\n",
       "    </tr>\n",
       "  </tbody>\n",
       "</table>\n",
       "</div>"
      ],
      "text/plain": [
       "                    index  exec_time     micro     macro  weighted\n",
       "20   8 - uniform - cosine   0.486794  0.720933  0.332710  0.239862\n",
       "28  10 - uniform - cosine   0.473595  0.724000  0.327346  0.236999\n",
       "24   9 - uniform - cosine   0.484678  0.721894  0.326840  0.235943\n",
       "36  12 - uniform - cosine   0.471226  0.727504  0.323873  0.235619\n",
       "44  14 - uniform - cosine   0.466985  0.729608  0.319086  0.232808"
      ]
     },
     "execution_count": 4,
     "metadata": {},
     "output_type": "execute_result"
    }
   ],
   "source": [
    "# weighting f1 micro and f1 macro\n",
    "bert_results = pd.DataFrame(bert_results).T.reset_index()\n",
    "bert_results['weighted'] = bert_results.micro * bert_results.macro\n",
    "bert_results = bert_results.sort_values('weighted', ascending=False)\n",
    "bert_results.head()"
   ]
  },
  {
   "cell_type": "markdown",
   "id": "1c81539c",
   "metadata": {},
   "source": [
    "The selected configuration is:\n",
    "\n",
    "- n_neighbors = 8\n",
    "- weights = uniform\n",
    "- metric = cosine"
   ]
  },
  {
   "cell_type": "markdown",
   "id": "bd23172b",
   "metadata": {},
   "source": [
    "## 1.1.2 TF-IDF"
   ]
  },
  {
   "cell_type": "code",
   "execution_count": 5,
   "id": "ee21daa5",
   "metadata": {
    "ExecuteTime": {
     "end_time": "2022-10-31T17:09:01.261038Z",
     "start_time": "2022-10-31T17:09:01.255531Z"
    }
   },
   "outputs": [],
   "source": [
    "# reading KNN-BERT results\n",
    "with open('output/results/knn/tf_idf_results.json', 'r') as f:\n",
    "    result = json.loads(f.read())"
   ]
  },
  {
   "cell_type": "code",
   "execution_count": 6,
   "id": "d347761c",
   "metadata": {
    "ExecuteTime": {
     "end_time": "2022-10-31T17:09:16.086231Z",
     "start_time": "2022-10-31T17:09:16.080370Z"
    }
   },
   "outputs": [],
   "source": [
    "# computing the averages\n",
    "tfidf_results = defaultdict(lambda: defaultdict(float))\n",
    "for ki in result.keys():\n",
    "    for kj in result[ki].keys():\n",
    "        tfidf_results[ki][kj] = np.mean(result[ki][kj])"
   ]
  },
  {
   "cell_type": "code",
   "execution_count": 7,
   "id": "c3fd276b",
   "metadata": {
    "ExecuteTime": {
     "end_time": "2022-10-31T17:09:29.788862Z",
     "start_time": "2022-10-31T17:09:29.776534Z"
    }
   },
   "outputs": [
    {
     "data": {
      "text/html": [
       "<div>\n",
       "<style scoped>\n",
       "    .dataframe tbody tr th:only-of-type {\n",
       "        vertical-align: middle;\n",
       "    }\n",
       "\n",
       "    .dataframe tbody tr th {\n",
       "        vertical-align: top;\n",
       "    }\n",
       "\n",
       "    .dataframe thead th {\n",
       "        text-align: right;\n",
       "    }\n",
       "</style>\n",
       "<table border=\"1\" class=\"dataframe\">\n",
       "  <thead>\n",
       "    <tr style=\"text-align: right;\">\n",
       "      <th></th>\n",
       "      <th>index</th>\n",
       "      <th>exec_time</th>\n",
       "      <th>micro</th>\n",
       "      <th>macro</th>\n",
       "      <th>weighted</th>\n",
       "    </tr>\n",
       "  </thead>\n",
       "  <tbody>\n",
       "    <tr>\n",
       "      <th>33</th>\n",
       "      <td>11 - uniform - euclidean</td>\n",
       "      <td>5.135127</td>\n",
       "      <td>0.673882</td>\n",
       "      <td>0.305530</td>\n",
       "      <td>0.205891</td>\n",
       "    </tr>\n",
       "    <tr>\n",
       "      <th>32</th>\n",
       "      <td>11 - uniform - cosine</td>\n",
       "      <td>5.791443</td>\n",
       "      <td>0.675283</td>\n",
       "      <td>0.300964</td>\n",
       "      <td>0.203236</td>\n",
       "    </tr>\n",
       "    <tr>\n",
       "      <th>41</th>\n",
       "      <td>13 - uniform - euclidean</td>\n",
       "      <td>5.182990</td>\n",
       "      <td>0.678437</td>\n",
       "      <td>0.296908</td>\n",
       "      <td>0.201433</td>\n",
       "    </tr>\n",
       "    <tr>\n",
       "      <th>45</th>\n",
       "      <td>14 - uniform - euclidean</td>\n",
       "      <td>5.085086</td>\n",
       "      <td>0.679313</td>\n",
       "      <td>0.296208</td>\n",
       "      <td>0.201218</td>\n",
       "    </tr>\n",
       "    <tr>\n",
       "      <th>20</th>\n",
       "      <td>8 - uniform - cosine</td>\n",
       "      <td>6.158333</td>\n",
       "      <td>0.668710</td>\n",
       "      <td>0.300681</td>\n",
       "      <td>0.201068</td>\n",
       "    </tr>\n",
       "  </tbody>\n",
       "</table>\n",
       "</div>"
      ],
      "text/plain": [
       "                       index  exec_time     micro     macro  weighted\n",
       "33  11 - uniform - euclidean   5.135127  0.673882  0.305530  0.205891\n",
       "32     11 - uniform - cosine   5.791443  0.675283  0.300964  0.203236\n",
       "41  13 - uniform - euclidean   5.182990  0.678437  0.296908  0.201433\n",
       "45  14 - uniform - euclidean   5.085086  0.679313  0.296208  0.201218\n",
       "20      8 - uniform - cosine   6.158333  0.668710  0.300681  0.201068"
      ]
     },
     "execution_count": 7,
     "metadata": {},
     "output_type": "execute_result"
    }
   ],
   "source": [
    "# weighting f1 micro and f1 macro\n",
    "tfidf_results = pd.DataFrame(tfidf_results).T.reset_index()\n",
    "tfidf_results['weighted'] = tfidf_results.micro * tfidf_results.macro\n",
    "tfidf_results = tfidf_results.sort_values('weighted', ascending=False)\n",
    "tfidf_results.head()"
   ]
  },
  {
   "cell_type": "markdown",
   "id": "4adb1ed0",
   "metadata": {},
   "source": [
    "The selected configuration is:\n",
    "\n",
    "- n_neighbors = 11\n",
    "- weights = uniform\n",
    "- metric = euclidean"
   ]
  },
  {
   "cell_type": "code",
   "execution_count": null,
   "id": "39999596",
   "metadata": {},
   "outputs": [],
   "source": []
  }
 ],
 "metadata": {
  "hide_input": false,
  "kernelspec": {
   "display_name": "Python 3 (ipykernel)",
   "language": "python",
   "name": "python3"
  },
  "language_info": {
   "codemirror_mode": {
    "name": "ipython",
    "version": 3
   },
   "file_extension": ".py",
   "mimetype": "text/x-python",
   "name": "python",
   "nbconvert_exporter": "python",
   "pygments_lexer": "ipython3",
   "version": "3.9.7"
  }
 },
 "nbformat": 4,
 "nbformat_minor": 5
}