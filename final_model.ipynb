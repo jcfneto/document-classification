{
 "cells": [
  {
   "cell_type": "code",
   "execution_count": 1,
   "metadata": {
    "ExecuteTime": {
     "end_time": "2022-11-06T17:00:13.540880Z",
     "start_time": "2022-11-06T17:00:12.990507Z"
    }
   },
   "outputs": [],
   "source": [
    "import numpy as np\n",
    "import pandas as pd\n",
    "import polars as pl\n",
    "\n",
    "from sklearn.svm import SVC\n",
    "from sklearn.neighbors import KNeighborsClassifier"
   ]
  },
  {
   "cell_type": "markdown",
   "metadata": {},
   "source": [
    "# 1. Data"
   ]
  },
  {
   "cell_type": "code",
   "execution_count": 2,
   "metadata": {
    "ExecuteTime": {
     "end_time": "2022-11-06T17:00:13.602323Z",
     "start_time": "2022-11-06T17:00:13.541734Z"
    }
   },
   "outputs": [
    {
     "data": {
      "text/plain": [
       "((11413, 89), (4024, 89))"
      ]
     },
     "execution_count": 2,
     "metadata": {},
     "output_type": "execute_result"
    }
   ],
   "source": [
    "# reading data - BERT\n",
    "train_bert = pl.read_csv('output/bert/train_pca.csv').to_pandas()\n",
    "test_bert = pl.read_csv('output/bert/test_pca.csv').to_pandas()\n",
    "train_bert.shape, test_bert.shape"
   ]
  },
  {
   "cell_type": "code",
   "execution_count": 3,
   "metadata": {
    "ExecuteTime": {
     "end_time": "2022-11-06T17:00:14.010691Z",
     "start_time": "2022-11-06T17:00:13.604117Z"
    },
    "scrolled": true
   },
   "outputs": [
    {
     "data": {
      "text/plain": [
       "((11413, 1517), (4024, 1517))"
      ]
     },
     "execution_count": 3,
     "metadata": {},
     "output_type": "execute_result"
    }
   ],
   "source": [
    "# reading data - BERT\n",
    "train_tfidf = pl.read_csv('output/tf_idf/train_pca.csv').to_pandas()\n",
    "test_tfidf = pl.read_csv('output/tf_idf/test_pca.csv').to_pandas()\n",
    "train_tfidf.shape, test_tfidf.shape"
   ]
  },
  {
   "cell_type": "code",
   "execution_count": 4,
   "metadata": {
    "ExecuteTime": {
     "end_time": "2022-11-06T17:00:14.013937Z",
     "start_time": "2022-11-06T17:00:14.011509Z"
    }
   },
   "outputs": [],
   "source": [
    "# copy to save\n",
    "test = test_bert[['doc_class']].copy()"
   ]
  },
  {
   "cell_type": "markdown",
   "metadata": {},
   "source": [
    "# 2. SVM"
   ]
  },
  {
   "cell_type": "markdown",
   "metadata": {},
   "source": [
    "## 2.1 BERT"
   ]
  },
  {
   "cell_type": "code",
   "execution_count": 5,
   "metadata": {
    "ExecuteTime": {
     "end_time": "2022-11-06T17:00:14.019896Z",
     "start_time": "2022-11-06T17:00:14.014757Z"
    }
   },
   "outputs": [],
   "source": [
    "# parameters\n",
    "svm_bert_params = {\n",
    "    'C': 0.1,\n",
    "    'gamma': 0.1,\n",
    "    'kernel': 'linear'\n",
    "}"
   ]
  },
  {
   "cell_type": "code",
   "execution_count": 6,
   "metadata": {
    "ExecuteTime": {
     "end_time": "2022-11-06T17:00:14.026553Z",
     "start_time": "2022-11-06T17:00:14.020919Z"
    }
   },
   "outputs": [
    {
     "data": {
      "text/plain": [
       "SVC(C=0.1, gamma=0.1, kernel='linear')"
      ]
     },
     "execution_count": 6,
     "metadata": {},
     "output_type": "execute_result"
    }
   ],
   "source": [
    "# build model\n",
    "svm_bert = SVC(**svm_bert_params)\n",
    "svm_bert"
   ]
  },
  {
   "cell_type": "code",
   "execution_count": 7,
   "metadata": {
    "ExecuteTime": {
     "end_time": "2022-11-06T17:00:16.249391Z",
     "start_time": "2022-11-06T17:00:14.027729Z"
    }
   },
   "outputs": [
    {
     "name": "stdout",
     "output_type": "stream",
     "text": [
      "CPU times: user 2.2 s, sys: 16.6 ms, total: 2.22 s\n",
      "Wall time: 2.22 s\n"
     ]
    },
    {
     "data": {
      "text/plain": [
       "SVC(C=0.1, gamma=0.1, kernel='linear')"
      ]
     },
     "execution_count": 7,
     "metadata": {},
     "output_type": "execute_result"
    }
   ],
   "source": [
    "%%time\n",
    "# fitting\n",
    "svm_bert.fit(train_bert.iloc[:, 2:].values, train_bert.doc_class.values)"
   ]
  },
  {
   "cell_type": "code",
   "execution_count": 8,
   "metadata": {
    "ExecuteTime": {
     "end_time": "2022-11-06T17:00:18.958546Z",
     "start_time": "2022-11-06T17:00:16.250645Z"
    }
   },
   "outputs": [],
   "source": [
    "# predictions\n",
    "test['svm_bert'] = svm_bert.predict(test_bert.iloc[:, 2:].values)"
   ]
  },
  {
   "cell_type": "markdown",
   "metadata": {},
   "source": [
    "## 2.2 TF-IDF"
   ]
  },
  {
   "cell_type": "code",
   "execution_count": 9,
   "metadata": {
    "ExecuteTime": {
     "end_time": "2022-11-06T17:00:18.961548Z",
     "start_time": "2022-11-06T17:00:18.959409Z"
    }
   },
   "outputs": [],
   "source": [
    "# parameters\n",
    "svm_tfidf_params = {\n",
    "    'C': 10,\n",
    "    'gamma': 0.1,\n",
    "    'kernel': 'linear'\n",
    "}"
   ]
  },
  {
   "cell_type": "code",
   "execution_count": 10,
   "metadata": {
    "ExecuteTime": {
     "end_time": "2022-11-06T17:00:18.973637Z",
     "start_time": "2022-11-06T17:00:18.962582Z"
    }
   },
   "outputs": [
    {
     "data": {
      "text/plain": [
       "SVC(C=10, gamma=0.1, kernel='linear')"
      ]
     },
     "execution_count": 10,
     "metadata": {},
     "output_type": "execute_result"
    }
   ],
   "source": [
    "# build model\n",
    "svm_tfidf = SVC(**svm_tfidf_params)\n",
    "svm_tfidf"
   ]
  },
  {
   "cell_type": "code",
   "execution_count": 11,
   "metadata": {
    "ExecuteTime": {
     "end_time": "2022-11-06T17:01:35.103100Z",
     "start_time": "2022-11-06T17:00:18.974500Z"
    }
   },
   "outputs": [
    {
     "name": "stdout",
     "output_type": "stream",
     "text": [
      "CPU times: user 1min 15s, sys: 143 ms, total: 1min 15s\n",
      "Wall time: 1min 16s\n"
     ]
    },
    {
     "data": {
      "text/plain": [
       "SVC(C=10, gamma=0.1, kernel='linear')"
      ]
     },
     "execution_count": 11,
     "metadata": {},
     "output_type": "execute_result"
    }
   ],
   "source": [
    "%%time\n",
    "# fitting\n",
    "svm_tfidf.fit(train_tfidf.iloc[:, 2:].values, train_tfidf.doc_class.values)"
   ]
  },
  {
   "cell_type": "code",
   "execution_count": 12,
   "metadata": {
    "ExecuteTime": {
     "end_time": "2022-11-06T17:02:00.647594Z",
     "start_time": "2022-11-06T17:01:35.105618Z"
    }
   },
   "outputs": [],
   "source": [
    "# predictions\n",
    "test['svm_tfidf'] = svm_tfidf.predict(test_tfidf.iloc[:, 2:].values)"
   ]
  },
  {
   "cell_type": "markdown",
   "metadata": {},
   "source": [
    "# 3. KNN"
   ]
  },
  {
   "cell_type": "markdown",
   "metadata": {},
   "source": [
    "## 3.1 BERT"
   ]
  },
  {
   "cell_type": "code",
   "execution_count": 13,
   "metadata": {
    "ExecuteTime": {
     "end_time": "2022-11-06T17:02:00.650679Z",
     "start_time": "2022-11-06T17:02:00.648535Z"
    }
   },
   "outputs": [],
   "source": [
    "# parameters\n",
    "knn_bert_params = {\n",
    "    'n_neighbors': 11,\n",
    "    'weights': 'uniform',\n",
    "    'metric': 'euclidean'\n",
    "}"
   ]
  },
  {
   "cell_type": "code",
   "execution_count": 14,
   "metadata": {
    "ExecuteTime": {
     "end_time": "2022-11-06T17:02:00.659720Z",
     "start_time": "2022-11-06T17:02:00.652287Z"
    },
    "scrolled": true
   },
   "outputs": [
    {
     "data": {
      "text/plain": [
       "KNeighborsClassifier(metric='euclidean', n_neighbors=11)"
      ]
     },
     "execution_count": 14,
     "metadata": {},
     "output_type": "execute_result"
    }
   ],
   "source": [
    "# build model\n",
    "knn_bert = KNeighborsClassifier(**knn_bert_params)\n",
    "knn_bert"
   ]
  },
  {
   "cell_type": "code",
   "execution_count": 15,
   "metadata": {
    "ExecuteTime": {
     "end_time": "2022-11-06T17:02:00.674460Z",
     "start_time": "2022-11-06T17:02:00.660977Z"
    }
   },
   "outputs": [
    {
     "data": {
      "text/plain": [
       "KNeighborsClassifier(metric='euclidean', n_neighbors=11)"
      ]
     },
     "execution_count": 15,
     "metadata": {},
     "output_type": "execute_result"
    }
   ],
   "source": [
    "# fitting\n",
    "knn_bert.fit(train_bert.iloc[:, 2:].values, train_bert.doc_class.values)"
   ]
  },
  {
   "cell_type": "code",
   "execution_count": 16,
   "metadata": {
    "ExecuteTime": {
     "end_time": "2022-11-06T17:02:01.457351Z",
     "start_time": "2022-11-06T17:02:00.675368Z"
    }
   },
   "outputs": [
    {
     "name": "stdout",
     "output_type": "stream",
     "text": [
      "CPU times: user 1.22 s, sys: 1.05 s, total: 2.27 s\n",
      "Wall time: 779 ms\n"
     ]
    }
   ],
   "source": [
    "%%time\n",
    "# predictions\n",
    "test['knn_bert'] = knn_bert.predict(test_bert.iloc[:, 2:].values)"
   ]
  },
  {
   "cell_type": "markdown",
   "metadata": {},
   "source": [
    "## 3.2 TF-IDF"
   ]
  },
  {
   "cell_type": "code",
   "execution_count": 17,
   "metadata": {
    "ExecuteTime": {
     "end_time": "2022-11-06T17:02:01.460828Z",
     "start_time": "2022-11-06T17:02:01.458721Z"
    }
   },
   "outputs": [],
   "source": [
    "# parameters\n",
    "knn_tfidf_params = {\n",
    "    'n_neighbors': 14,\n",
    "    'weights': 'uniform',\n",
    "    'metric': 'cosine'\n",
    "}"
   ]
  },
  {
   "cell_type": "code",
   "execution_count": 18,
   "metadata": {
    "ExecuteTime": {
     "end_time": "2022-11-06T17:02:01.469732Z",
     "start_time": "2022-11-06T17:02:01.461911Z"
    }
   },
   "outputs": [
    {
     "data": {
      "text/plain": [
       "KNeighborsClassifier(metric='cosine', n_neighbors=14)"
      ]
     },
     "execution_count": 18,
     "metadata": {},
     "output_type": "execute_result"
    }
   ],
   "source": [
    "# build model\n",
    "knn_tfidf = KNeighborsClassifier(**knn_tfidf_params)\n",
    "knn_tfidf"
   ]
  },
  {
   "cell_type": "code",
   "execution_count": 19,
   "metadata": {
    "ExecuteTime": {
     "end_time": "2022-11-06T17:02:01.513987Z",
     "start_time": "2022-11-06T17:02:01.470866Z"
    }
   },
   "outputs": [
    {
     "data": {
      "text/plain": [
       "KNeighborsClassifier(metric='cosine', n_neighbors=14)"
      ]
     },
     "execution_count": 19,
     "metadata": {},
     "output_type": "execute_result"
    }
   ],
   "source": [
    "# fitting\n",
    "knn_tfidf.fit(train_tfidf.iloc[:, 2:].values, train_tfidf.doc_class.values)"
   ]
  },
  {
   "cell_type": "code",
   "execution_count": 20,
   "metadata": {
    "ExecuteTime": {
     "end_time": "2022-11-06T17:02:02.971968Z",
     "start_time": "2022-11-06T17:02:01.515563Z"
    }
   },
   "outputs": [
    {
     "name": "stdout",
     "output_type": "stream",
     "text": [
      "CPU times: user 5.8 s, sys: 2.66 s, total: 8.46 s\n",
      "Wall time: 1.45 s\n"
     ]
    }
   ],
   "source": [
    "%%time\n",
    "# predictions\n",
    "test['knn_tfidf'] = knn_tfidf.predict(test_tfidf.iloc[:, 2:].values)"
   ]
  },
  {
   "cell_type": "code",
   "execution_count": 22,
   "metadata": {
    "ExecuteTime": {
     "end_time": "2022-11-06T17:05:13.422097Z",
     "start_time": "2022-11-06T17:05:13.403328Z"
    }
   },
   "outputs": [],
   "source": [
    "# saving \n",
    "test.to_csv('output/results/results.csv', index=False)"
   ]
  }
 ],
 "metadata": {
  "hide_input": false,
  "kernelspec": {
   "display_name": "Python 3 (ipykernel)",
   "language": "python",
   "name": "python3"
  },
  "language_info": {
   "codemirror_mode": {
    "name": "ipython",
    "version": 3
   },
   "file_extension": ".py",
   "mimetype": "text/x-python",
   "name": "python",
   "nbconvert_exporter": "python",
   "pygments_lexer": "ipython3",
   "version": "3.9.7"
  }
 },
 "nbformat": 4,
 "nbformat_minor": 1
}
