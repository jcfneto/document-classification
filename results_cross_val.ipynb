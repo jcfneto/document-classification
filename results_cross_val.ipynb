{
 "cells": [
  {
   "cell_type": "code",
   "execution_count": 1,
   "id": "2cef04fa",
   "metadata": {
    "ExecuteTime": {
     "end_time": "2022-11-06T15:46:42.040612Z",
     "start_time": "2022-11-06T15:46:41.122242Z"
    }
   },
   "outputs": [],
   "source": [
    "import json\n",
    "\n",
    "import numpy as np\n",
    "import pandas as pd\n",
    "import matplotlib.pyplot as plt\n",
    "\n",
    "from collections import defaultdict\n",
    "\n",
    "from scipy.stats import ttest_ind, iqr"
   ]
  },
  {
   "cell_type": "markdown",
   "id": "c2d3f31d",
   "metadata": {
    "heading_collapsed": true
   },
   "source": [
    "# Auxiliar functions"
   ]
  },
  {
   "cell_type": "code",
   "execution_count": 2,
   "id": "43362c32",
   "metadata": {
    "ExecuteTime": {
     "end_time": "2022-11-06T15:46:42.045463Z",
     "start_time": "2022-11-06T15:46:42.041423Z"
    },
    "hidden": true
   },
   "outputs": [],
   "source": [
    "# plot\n",
    "def boxplot(colname: str, ylabel: str, title: str):\n",
    "\n",
    "    micro = [svm_bert_results[colname].values, \n",
    "             knn_bert_results[colname].values,\n",
    "             svm_tfidf_results[colname].values,\n",
    "             knn_tfidf_results[colname].values]\n",
    "    labels = ['SVM/BERT', 'KNN/BERT', 'SVM/TF-IDF', 'KNN/TF-IDF']\n",
    "\n",
    "    b1 = plt.boxplot(micro, vert=True, patch_artist=True, labels=labels)\n",
    "\n",
    "    colors = ['pink', 'lightblue', 'lightgreen', 'lightsteelblue']\n",
    "\n",
    "    for patch, color in zip(b1['boxes'], colors):\n",
    "        patch.set_facecolor(color)\n",
    "\n",
    "    plt.ylabel(ylabel)\n",
    "    plt.title(title)\n",
    "    plt.grid(axis='y')\n",
    "    plt.show()\n",
    "\n",
    "\n",
    "def remove_outlier(x):\n",
    "    lower = np.quantile(x, 0.25) - 1.5 * iqr(x)\n",
    "    upper = np.quantile(x, 0.75) + 1.5 * iqr(x)\n",
    "    return x[(x >= lower) & (x <= upper)]"
   ]
  },
  {
   "cell_type": "markdown",
   "id": "369fb6b8",
   "metadata": {},
   "source": [
    "# 1. Results"
   ]
  },
  {
   "cell_type": "markdown",
   "id": "d9da1bb7",
   "metadata": {},
   "source": [
    "To select the configuration to use, let's multiply f1 micro by f1 macro. The best result, that is, the one with the highest value will be chosen."
   ]
  },
  {
   "cell_type": "markdown",
   "id": "8a38b59d",
   "metadata": {
    "heading_collapsed": true
   },
   "source": [
    "## 1.1 KNN"
   ]
  },
  {
   "cell_type": "markdown",
   "id": "aa49ef63",
   "metadata": {
    "heading_collapsed": true,
    "hidden": true
   },
   "source": [
    "### 1.1.1 BERT"
   ]
  },
  {
   "cell_type": "code",
   "execution_count": 3,
   "id": "6c940390",
   "metadata": {
    "ExecuteTime": {
     "end_time": "2022-11-06T15:46:42.054812Z",
     "start_time": "2022-11-06T15:46:42.047541Z"
    },
    "hidden": true
   },
   "outputs": [],
   "source": [
    "# reading KNN-BERT results\n",
    "with open('output/results/knn/bert_results.json', 'r') as f:\n",
    "    result = json.loads(f.read())"
   ]
  },
  {
   "cell_type": "code",
   "execution_count": 4,
   "id": "a71a1262",
   "metadata": {
    "ExecuteTime": {
     "end_time": "2022-11-06T15:46:42.061083Z",
     "start_time": "2022-11-06T15:46:42.055726Z"
    },
    "hidden": true
   },
   "outputs": [],
   "source": [
    "# computing the averages\n",
    "knn_bert_results = defaultdict(lambda: defaultdict(float))\n",
    "for ki in result.keys():\n",
    "    for kj in result[ki].keys():\n",
    "        knn_bert_results[ki][kj] = np.mean(result[ki][kj])"
   ]
  },
  {
   "cell_type": "code",
   "execution_count": 5,
   "id": "d85362b4",
   "metadata": {
    "ExecuteTime": {
     "end_time": "2022-11-06T15:46:42.074576Z",
     "start_time": "2022-11-06T15:46:42.061948Z"
    },
    "hidden": true
   },
   "outputs": [
    {
     "data": {
      "text/html": [
       "<div>\n",
       "<style scoped>\n",
       "    .dataframe tbody tr th:only-of-type {\n",
       "        vertical-align: middle;\n",
       "    }\n",
       "\n",
       "    .dataframe tbody tr th {\n",
       "        vertical-align: top;\n",
       "    }\n",
       "\n",
       "    .dataframe thead th {\n",
       "        text-align: right;\n",
       "    }\n",
       "</style>\n",
       "<table border=\"1\" class=\"dataframe\">\n",
       "  <thead>\n",
       "    <tr style=\"text-align: right;\">\n",
       "      <th></th>\n",
       "      <th>index</th>\n",
       "      <th>exec_time</th>\n",
       "      <th>micro</th>\n",
       "      <th>macro</th>\n",
       "      <th>weighted</th>\n",
       "    </tr>\n",
       "  </thead>\n",
       "  <tbody>\n",
       "    <tr>\n",
       "      <th>33</th>\n",
       "      <td>11 - uniform - euclidean</td>\n",
       "      <td>0.339587</td>\n",
       "      <td>0.727766</td>\n",
       "      <td>0.318114</td>\n",
       "      <td>0.231512</td>\n",
       "    </tr>\n",
       "    <tr>\n",
       "      <th>9</th>\n",
       "      <td>5 - uniform - euclidean</td>\n",
       "      <td>0.336569</td>\n",
       "      <td>0.706476</td>\n",
       "      <td>0.327063</td>\n",
       "      <td>0.231062</td>\n",
       "    </tr>\n",
       "    <tr>\n",
       "      <th>25</th>\n",
       "      <td>9 - uniform - euclidean</td>\n",
       "      <td>0.340132</td>\n",
       "      <td>0.723824</td>\n",
       "      <td>0.317440</td>\n",
       "      <td>0.229771</td>\n",
       "    </tr>\n",
       "    <tr>\n",
       "      <th>13</th>\n",
       "      <td>6 - uniform - euclidean</td>\n",
       "      <td>0.336559</td>\n",
       "      <td>0.710768</td>\n",
       "      <td>0.320006</td>\n",
       "      <td>0.227451</td>\n",
       "    </tr>\n",
       "    <tr>\n",
       "      <th>21</th>\n",
       "      <td>8 - uniform - euclidean</td>\n",
       "      <td>0.338104</td>\n",
       "      <td>0.720408</td>\n",
       "      <td>0.315336</td>\n",
       "      <td>0.227171</td>\n",
       "    </tr>\n",
       "  </tbody>\n",
       "</table>\n",
       "</div>"
      ],
      "text/plain": [
       "                       index  exec_time     micro     macro  weighted\n",
       "33  11 - uniform - euclidean   0.339587  0.727766  0.318114  0.231512\n",
       "9    5 - uniform - euclidean   0.336569  0.706476  0.327063  0.231062\n",
       "25   9 - uniform - euclidean   0.340132  0.723824  0.317440  0.229771\n",
       "13   6 - uniform - euclidean   0.336559  0.710768  0.320006  0.227451\n",
       "21   8 - uniform - euclidean   0.338104  0.720408  0.315336  0.227171"
      ]
     },
     "execution_count": 5,
     "metadata": {},
     "output_type": "execute_result"
    }
   ],
   "source": [
    "# weighting f1 micro and f1 macro\n",
    "knn_bert_results = pd.DataFrame(knn_bert_results).T.reset_index()\n",
    "knn_bert_results['weighted'] = knn_bert_results.micro * knn_bert_results.macro\n",
    "knn_bert_results = knn_bert_results.sort_values('weighted', ascending=False)\n",
    "knn_bert_results.head()"
   ]
  },
  {
   "cell_type": "markdown",
   "id": "1c81539c",
   "metadata": {
    "hidden": true
   },
   "source": [
    "The selected configuration is:\n",
    "\n",
    "- n_neighbors = 11\n",
    "- weights = uniform\n",
    "- metric = euclidean"
   ]
  },
  {
   "cell_type": "markdown",
   "id": "bd23172b",
   "metadata": {
    "heading_collapsed": true,
    "hidden": true
   },
   "source": [
    "### 1.1.2 TF-IDF"
   ]
  },
  {
   "cell_type": "code",
   "execution_count": 6,
   "id": "ee21daa5",
   "metadata": {
    "ExecuteTime": {
     "end_time": "2022-11-06T15:46:42.077797Z",
     "start_time": "2022-11-06T15:46:42.075302Z"
    },
    "hidden": true
   },
   "outputs": [],
   "source": [
    "# reading KNN-TF-IDF results\n",
    "with open('output/results/knn/tf_idf_results.json', 'r') as f:\n",
    "    result = json.loads(f.read())"
   ]
  },
  {
   "cell_type": "code",
   "execution_count": 7,
   "id": "d347761c",
   "metadata": {
    "ExecuteTime": {
     "end_time": "2022-11-06T15:46:42.083552Z",
     "start_time": "2022-11-06T15:46:42.078642Z"
    },
    "hidden": true
   },
   "outputs": [],
   "source": [
    "# computing the averages\n",
    "knn_tfidf_results = defaultdict(lambda: defaultdict(float))\n",
    "for ki in result.keys():\n",
    "    for kj in result[ki].keys():\n",
    "        knn_tfidf_results[ki][kj] = np.mean(result[ki][kj])"
   ]
  },
  {
   "cell_type": "code",
   "execution_count": 8,
   "id": "c3fd276b",
   "metadata": {
    "ExecuteTime": {
     "end_time": "2022-11-06T15:46:42.094308Z",
     "start_time": "2022-11-06T15:46:42.084232Z"
    },
    "hidden": true
   },
   "outputs": [
    {
     "data": {
      "text/html": [
       "<div>\n",
       "<style scoped>\n",
       "    .dataframe tbody tr th:only-of-type {\n",
       "        vertical-align: middle;\n",
       "    }\n",
       "\n",
       "    .dataframe tbody tr th {\n",
       "        vertical-align: top;\n",
       "    }\n",
       "\n",
       "    .dataframe thead th {\n",
       "        text-align: right;\n",
       "    }\n",
       "</style>\n",
       "<table border=\"1\" class=\"dataframe\">\n",
       "  <thead>\n",
       "    <tr style=\"text-align: right;\">\n",
       "      <th></th>\n",
       "      <th>index</th>\n",
       "      <th>exec_time</th>\n",
       "      <th>micro</th>\n",
       "      <th>macro</th>\n",
       "      <th>weighted</th>\n",
       "    </tr>\n",
       "  </thead>\n",
       "  <tbody>\n",
       "    <tr>\n",
       "      <th>44</th>\n",
       "      <td>14 - uniform - cosine</td>\n",
       "      <td>0.563601</td>\n",
       "      <td>0.702095</td>\n",
       "      <td>0.302064</td>\n",
       "      <td>0.212078</td>\n",
       "    </tr>\n",
       "    <tr>\n",
       "      <th>36</th>\n",
       "      <td>12 - uniform - cosine</td>\n",
       "      <td>0.562335</td>\n",
       "      <td>0.695436</td>\n",
       "      <td>0.303972</td>\n",
       "      <td>0.211393</td>\n",
       "    </tr>\n",
       "    <tr>\n",
       "      <th>24</th>\n",
       "      <td>9 - uniform - cosine</td>\n",
       "      <td>0.558035</td>\n",
       "      <td>0.691055</td>\n",
       "      <td>0.304134</td>\n",
       "      <td>0.210173</td>\n",
       "    </tr>\n",
       "    <tr>\n",
       "      <th>40</th>\n",
       "      <td>13 - uniform - cosine</td>\n",
       "      <td>0.560970</td>\n",
       "      <td>0.698501</td>\n",
       "      <td>0.299140</td>\n",
       "      <td>0.208950</td>\n",
       "    </tr>\n",
       "    <tr>\n",
       "      <th>48</th>\n",
       "      <td>15 - uniform - cosine</td>\n",
       "      <td>0.570590</td>\n",
       "      <td>0.697362</td>\n",
       "      <td>0.298635</td>\n",
       "      <td>0.208257</td>\n",
       "    </tr>\n",
       "  </tbody>\n",
       "</table>\n",
       "</div>"
      ],
      "text/plain": [
       "                    index  exec_time     micro     macro  weighted\n",
       "44  14 - uniform - cosine   0.563601  0.702095  0.302064  0.212078\n",
       "36  12 - uniform - cosine   0.562335  0.695436  0.303972  0.211393\n",
       "24   9 - uniform - cosine   0.558035  0.691055  0.304134  0.210173\n",
       "40  13 - uniform - cosine   0.560970  0.698501  0.299140  0.208950\n",
       "48  15 - uniform - cosine   0.570590  0.697362  0.298635  0.208257"
      ]
     },
     "execution_count": 8,
     "metadata": {},
     "output_type": "execute_result"
    }
   ],
   "source": [
    "# weighting f1 micro and f1 macro\n",
    "knn_tfidf_results = pd.DataFrame(knn_tfidf_results).T.reset_index()\n",
    "knn_tfidf_results['weighted'] = knn_tfidf_results.micro * knn_tfidf_results.macro\n",
    "knn_tfidf_results = knn_tfidf_results.sort_values('weighted', ascending=False)\n",
    "knn_tfidf_results.head()"
   ]
  },
  {
   "cell_type": "markdown",
   "id": "4adb1ed0",
   "metadata": {
    "hidden": true
   },
   "source": [
    "The selected configuration is:\n",
    "\n",
    "- n_neighbors = 14\n",
    "- weights = uniform\n",
    "- metric = cosine"
   ]
  },
  {
   "cell_type": "markdown",
   "id": "cff47037",
   "metadata": {
    "heading_collapsed": true
   },
   "source": [
    "## 1.2 SVM"
   ]
  },
  {
   "cell_type": "markdown",
   "id": "4a8d7101",
   "metadata": {
    "heading_collapsed": true,
    "hidden": true
   },
   "source": [
    "### 1.2.1 BERT"
   ]
  },
  {
   "cell_type": "code",
   "execution_count": 9,
   "id": "f3d841d6",
   "metadata": {
    "ExecuteTime": {
     "end_time": "2022-11-06T15:46:42.100633Z",
     "start_time": "2022-11-06T15:46:42.095052Z"
    },
    "hidden": true
   },
   "outputs": [],
   "source": [
    "# reading SVM-BERT results\n",
    "with open('output/results/svm/bert_results.json', 'r') as f:\n",
    "    result = json.loads(f.read())"
   ]
  },
  {
   "cell_type": "code",
   "execution_count": 10,
   "id": "d8561a46",
   "metadata": {
    "ExecuteTime": {
     "end_time": "2022-11-06T15:46:42.105958Z",
     "start_time": "2022-11-06T15:46:42.101453Z"
    },
    "hidden": true
   },
   "outputs": [],
   "source": [
    "# computing the averages\n",
    "svm_bert_results = defaultdict(lambda: defaultdict(float))\n",
    "for ki in result.keys():\n",
    "    for kj in result[ki].keys():\n",
    "        svm_bert_results[ki][kj] = np.mean(result[ki][kj])"
   ]
  },
  {
   "cell_type": "code",
   "execution_count": 11,
   "id": "1b2eaa82",
   "metadata": {
    "ExecuteTime": {
     "end_time": "2022-11-06T15:46:42.115902Z",
     "start_time": "2022-11-06T15:46:42.106775Z"
    },
    "hidden": true
   },
   "outputs": [
    {
     "data": {
      "text/html": [
       "<div>\n",
       "<style scoped>\n",
       "    .dataframe tbody tr th:only-of-type {\n",
       "        vertical-align: middle;\n",
       "    }\n",
       "\n",
       "    .dataframe tbody tr th {\n",
       "        vertical-align: top;\n",
       "    }\n",
       "\n",
       "    .dataframe thead th {\n",
       "        text-align: right;\n",
       "    }\n",
       "</style>\n",
       "<table border=\"1\" class=\"dataframe\">\n",
       "  <thead>\n",
       "    <tr style=\"text-align: right;\">\n",
       "      <th></th>\n",
       "      <th>index</th>\n",
       "      <th>exec_time</th>\n",
       "      <th>micro</th>\n",
       "      <th>macro</th>\n",
       "      <th>weighted</th>\n",
       "    </tr>\n",
       "  </thead>\n",
       "  <tbody>\n",
       "    <tr>\n",
       "      <th>2</th>\n",
       "      <td>0.1 - 0.1 - linear</td>\n",
       "      <td>2.751630</td>\n",
       "      <td>0.751860</td>\n",
       "      <td>0.366265</td>\n",
       "      <td>0.275380</td>\n",
       "    </tr>\n",
       "    <tr>\n",
       "      <th>0</th>\n",
       "      <td>0.1 - 1 - linear</td>\n",
       "      <td>2.761080</td>\n",
       "      <td>0.751861</td>\n",
       "      <td>0.364073</td>\n",
       "      <td>0.273732</td>\n",
       "    </tr>\n",
       "    <tr>\n",
       "      <th>4</th>\n",
       "      <td>0.1 - 0.01 - linear</td>\n",
       "      <td>2.741070</td>\n",
       "      <td>0.749146</td>\n",
       "      <td>0.365168</td>\n",
       "      <td>0.273564</td>\n",
       "    </tr>\n",
       "    <tr>\n",
       "      <th>6</th>\n",
       "      <td>0.1 - 0.001 - linear</td>\n",
       "      <td>2.752798</td>\n",
       "      <td>0.750286</td>\n",
       "      <td>0.355417</td>\n",
       "      <td>0.266664</td>\n",
       "    </tr>\n",
       "    <tr>\n",
       "      <th>21</th>\n",
       "      <td>10 - 0.01 - rbf</td>\n",
       "      <td>3.856677</td>\n",
       "      <td>0.728730</td>\n",
       "      <td>0.356235</td>\n",
       "      <td>0.259599</td>\n",
       "    </tr>\n",
       "  </tbody>\n",
       "</table>\n",
       "</div>"
      ],
      "text/plain": [
       "                   index  exec_time     micro     macro  weighted\n",
       "2     0.1 - 0.1 - linear   2.751630  0.751860  0.366265  0.275380\n",
       "0       0.1 - 1 - linear   2.761080  0.751861  0.364073  0.273732\n",
       "4    0.1 - 0.01 - linear   2.741070  0.749146  0.365168  0.273564\n",
       "6   0.1 - 0.001 - linear   2.752798  0.750286  0.355417  0.266664\n",
       "21       10 - 0.01 - rbf   3.856677  0.728730  0.356235  0.259599"
      ]
     },
     "execution_count": 11,
     "metadata": {},
     "output_type": "execute_result"
    }
   ],
   "source": [
    "# weighting f1 micro and f1 macro\n",
    "svm_bert_results = pd.DataFrame(svm_bert_results).T.reset_index()\n",
    "svm_bert_results['weighted'] = svm_bert_results.micro * svm_bert_results.macro\n",
    "svm_bert_results = svm_bert_results.sort_values('weighted', ascending=False)\n",
    "svm_bert_results.head()"
   ]
  },
  {
   "cell_type": "markdown",
   "id": "5140446b",
   "metadata": {
    "hidden": true
   },
   "source": [
    "The selected configuration is:\n",
    "\n",
    "- C = 0.1\n",
    "- gamma = 0.1\n",
    "- kernel = linear"
   ]
  },
  {
   "cell_type": "markdown",
   "id": "cea9843f",
   "metadata": {
    "heading_collapsed": true,
    "hidden": true
   },
   "source": [
    "### 1.2.2 TF-IDF"
   ]
  },
  {
   "cell_type": "code",
   "execution_count": 12,
   "id": "b3c1d8fe",
   "metadata": {
    "ExecuteTime": {
     "end_time": "2022-11-06T15:46:42.121183Z",
     "start_time": "2022-11-06T15:46:42.117470Z"
    },
    "hidden": true
   },
   "outputs": [],
   "source": [
    "# reading SVM-TF-IDF results\n",
    "with open('output/results/svm/tf_idf_results.json', 'r') as f:\n",
    "    result = json.loads(f.read())"
   ]
  },
  {
   "cell_type": "code",
   "execution_count": 13,
   "id": "ec15fc93",
   "metadata": {
    "ExecuteTime": {
     "end_time": "2022-11-06T15:46:42.129663Z",
     "start_time": "2022-11-06T15:46:42.122293Z"
    },
    "hidden": true
   },
   "outputs": [],
   "source": [
    "# computing the averages\n",
    "svm_tfidf_results = defaultdict(lambda: defaultdict(float))\n",
    "for ki in result.keys():\n",
    "    for kj in result[ki].keys():\n",
    "        svm_tfidf_results[ki][kj] = np.mean(result[ki][kj])"
   ]
  },
  {
   "cell_type": "code",
   "execution_count": 14,
   "id": "9386f60f",
   "metadata": {
    "ExecuteTime": {
     "end_time": "2022-11-06T15:46:42.142203Z",
     "start_time": "2022-11-06T15:46:42.130804Z"
    },
    "hidden": true
   },
   "outputs": [
    {
     "data": {
      "text/html": [
       "<div>\n",
       "<style scoped>\n",
       "    .dataframe tbody tr th:only-of-type {\n",
       "        vertical-align: middle;\n",
       "    }\n",
       "\n",
       "    .dataframe tbody tr th {\n",
       "        vertical-align: top;\n",
       "    }\n",
       "\n",
       "    .dataframe thead th {\n",
       "        text-align: right;\n",
       "    }\n",
       "</style>\n",
       "<table border=\"1\" class=\"dataframe\">\n",
       "  <thead>\n",
       "    <tr style=\"text-align: right;\">\n",
       "      <th></th>\n",
       "      <th>index</th>\n",
       "      <th>exec_time</th>\n",
       "      <th>micro</th>\n",
       "      <th>macro</th>\n",
       "      <th>weighted</th>\n",
       "    </tr>\n",
       "  </thead>\n",
       "  <tbody>\n",
       "    <tr>\n",
       "      <th>20</th>\n",
       "      <td>10 - 0.01 - linear</td>\n",
       "      <td>56.786533</td>\n",
       "      <td>0.698501</td>\n",
       "      <td>0.341466</td>\n",
       "      <td>0.238515</td>\n",
       "    </tr>\n",
       "    <tr>\n",
       "      <th>8</th>\n",
       "      <td>1 - 1 - linear</td>\n",
       "      <td>60.174103</td>\n",
       "      <td>0.736354</td>\n",
       "      <td>0.323596</td>\n",
       "      <td>0.238281</td>\n",
       "    </tr>\n",
       "    <tr>\n",
       "      <th>14</th>\n",
       "      <td>1 - 0.001 - linear</td>\n",
       "      <td>60.607197</td>\n",
       "      <td>0.734162</td>\n",
       "      <td>0.321927</td>\n",
       "      <td>0.236347</td>\n",
       "    </tr>\n",
       "    <tr>\n",
       "      <th>12</th>\n",
       "      <td>1 - 0.01 - linear</td>\n",
       "      <td>60.425014</td>\n",
       "      <td>0.735215</td>\n",
       "      <td>0.321233</td>\n",
       "      <td>0.236176</td>\n",
       "    </tr>\n",
       "    <tr>\n",
       "      <th>16</th>\n",
       "      <td>10 - 1 - linear</td>\n",
       "      <td>56.592804</td>\n",
       "      <td>0.695435</td>\n",
       "      <td>0.336159</td>\n",
       "      <td>0.233776</td>\n",
       "    </tr>\n",
       "  </tbody>\n",
       "</table>\n",
       "</div>"
      ],
      "text/plain": [
       "                 index  exec_time     micro     macro  weighted\n",
       "20  10 - 0.01 - linear  56.786533  0.698501  0.341466  0.238515\n",
       "8       1 - 1 - linear  60.174103  0.736354  0.323596  0.238281\n",
       "14  1 - 0.001 - linear  60.607197  0.734162  0.321927  0.236347\n",
       "12   1 - 0.01 - linear  60.425014  0.735215  0.321233  0.236176\n",
       "16     10 - 1 - linear  56.592804  0.695435  0.336159  0.233776"
      ]
     },
     "execution_count": 14,
     "metadata": {},
     "output_type": "execute_result"
    }
   ],
   "source": [
    "# weighting f1 micro and f1 macro\n",
    "svm_tfidf_results = pd.DataFrame(svm_tfidf_results).T.reset_index()\n",
    "svm_tfidf_results['weighted'] = svm_tfidf_results.micro * svm_tfidf_results.macro\n",
    "svm_tfidf_results = svm_tfidf_results.sort_values('weighted', ascending=False)\n",
    "svm_tfidf_results.head()"
   ]
  },
  {
   "cell_type": "markdown",
   "id": "2dd98c8d",
   "metadata": {
    "hidden": true
   },
   "source": [
    "The selected configuration is:\n",
    "\n",
    "- C = 10\n",
    "- gamma = 0.1\n",
    "- kernel = linear"
   ]
  },
  {
   "cell_type": "markdown",
   "id": "e496b081",
   "metadata": {},
   "source": [
    "# 2. t-test"
   ]
  },
  {
   "cell_type": "code",
   "execution_count": 15,
   "id": "ba711c01",
   "metadata": {
    "ExecuteTime": {
     "end_time": "2022-11-06T15:46:42.227983Z",
     "start_time": "2022-11-06T15:46:42.142856Z"
    },
    "scrolled": true
   },
   "outputs": [
    {
     "data": {
      "image/png": "[encoded data removed]",
      "text/plain": [
       "<Figure size 432x288 with 1 Axes>"
      ]
     },
     "metadata": {
      "needs_background": "light"
     },
     "output_type": "display_data"
    }
   ],
   "source": [
    "# plotting F1 micro\n",
    "boxplot(colname='micro', ylabel='F1 Micro', title='F1 Micro')"
   ]
  },
  {
   "cell_type": "code",
   "execution_count": 16,
   "id": "56761b6a",
   "metadata": {
    "ExecuteTime": {
     "end_time": "2022-11-06T15:46:42.233785Z",
     "start_time": "2022-11-06T15:46:42.228746Z"
    }
   },
   "outputs": [
    {
     "data": {
      "text/plain": [
       "0.01137885204223082"
      ]
     },
     "execution_count": 16,
     "metadata": {},
     "output_type": "execute_result"
    }
   ],
   "source": [
    "# removing outliers and t-test - BERT\n",
    "ttest_ind(remove_outlier(svm_bert_results.micro.values),\n",
    "          remove_outlier(knn_bert_results.micro.values),\n",
    "          alternative='greater')[1]"
   ]
  },
  {
   "cell_type": "code",
   "execution_count": 17,
   "id": "07ea14b8",
   "metadata": {
    "ExecuteTime": {
     "end_time": "2022-11-06T15:46:42.239777Z",
     "start_time": "2022-11-06T15:46:42.234893Z"
    }
   },
   "outputs": [
    {
     "data": {
      "text/plain": [
       "0.025284142680663067"
      ]
     },
     "execution_count": 17,
     "metadata": {},
     "output_type": "execute_result"
    }
   ],
   "source": [
    "# removing outliers and t-test - BERT\n",
    "ttest_ind(remove_outlier(svm_tfidf_results.micro.values),\n",
    "          remove_outlier(knn_tfidf_results.micro.values),\n",
    "          alternative='greater')[1]"
   ]
  },
  {
   "cell_type": "markdown",
   "id": "2d570cad",
   "metadata": {},
   "source": [
    "F1 Micro results for SVM is statistically better than KNN with BERT and TF-IDF for the tested configurations."
   ]
  },
  {
   "cell_type": "code",
   "execution_count": 18,
   "id": "96e81613",
   "metadata": {
    "ExecuteTime": {
     "end_time": "2022-11-06T15:46:42.320863Z",
     "start_time": "2022-11-06T15:46:42.240892Z"
    }
   },
   "outputs": [
    {
     "data": {
      "image/png": "[encoded data removed]",
      "text/plain": [
       "<Figure size 432x288 with 1 Axes>"
      ]
     },
     "metadata": {
      "needs_background": "light"
     },
     "output_type": "display_data"
    }
   ],
   "source": [
    "# plotting F1 macro\n",
    "boxplot(colname='macro', ylabel='F1 Macro', title='F1 Macro')"
   ]
  },
  {
   "cell_type": "code",
   "execution_count": 19,
   "id": "3f647c70",
   "metadata": {
    "ExecuteTime": {
     "end_time": "2022-11-06T15:46:42.326037Z",
     "start_time": "2022-11-06T15:46:42.321622Z"
    }
   },
   "outputs": [
    {
     "data": {
      "text/plain": [
       "0.01327758876418086"
      ]
     },
     "execution_count": 19,
     "metadata": {},
     "output_type": "execute_result"
    }
   ],
   "source": [
    "# removing outliers and t-test - BERT\n",
    "ttest_ind(remove_outlier(svm_bert_results.macro.values),\n",
    "          remove_outlier(knn_bert_results.macro.values),\n",
    "          alternative='less')[1]"
   ]
  },
  {
   "cell_type": "code",
   "execution_count": 20,
   "id": "5e3e2b4e",
   "metadata": {
    "ExecuteTime": {
     "end_time": "2022-11-06T15:46:42.335127Z",
     "start_time": "2022-11-06T15:46:42.327285Z"
    }
   },
   "outputs": [
    {
     "data": {
      "text/plain": [
       "0.0004685866907476456"
      ]
     },
     "execution_count": 20,
     "metadata": {},
     "output_type": "execute_result"
    }
   ],
   "source": [
    "# removing outliers and t-test - BERT\n",
    "ttest_ind(remove_outlier(svm_tfidf_results.macro.values),\n",
    "          remove_outlier(knn_tfidf_results.macro.values),\n",
    "          alternative='less')[1]"
   ]
  },
  {
   "cell_type": "markdown",
   "id": "33492e32",
   "metadata": {},
   "source": [
    "The F1 Macro results for SVM is statistically lower than KNN with BERT and TF-IDF for the tested configurations."
   ]
  }
 ],
 "metadata": {
  "hide_input": false,
  "kernelspec": {
   "display_name": "Python 3 (ipykernel)",
   "language": "python",
   "name": "python3"
  },
  "language_info": {
   "codemirror_mode": {
    "name": "ipython",
    "version": 3
   },
   "file_extension": ".py",
   "mimetype": "text/x-python",
   "name": "python",
   "nbconvert_exporter": "python",
   "pygments_lexer": "ipython3",
   "version": "3.9.7"
  }
 },
 "nbformat": 4,
 "nbformat_minor": 5
}
