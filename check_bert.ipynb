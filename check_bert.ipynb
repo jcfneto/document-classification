{
 "cells": [
  {
   "cell_type": "code",
   "execution_count": 1,
   "metadata": {
    "collapsed": true
   },
   "outputs": [],
   "source": [
    "import pandas as pd\n",
    "import polars as pl\n",
    "\n",
    "from sentence_transformers import SentenceTransformer"
   ]
  },
  {
   "cell_type": "code",
   "execution_count": 2,
   "outputs": [],
   "source": [
    "# reading data\n",
    "train = pl.read_csv('output/bert/train.csv').to_pandas()\n",
    "test = pl.read_csv('output/bert/test.csv').to_pandas()\n",
    "data = pd.concat([train, test]).reset_index(drop=True)"
   ],
   "metadata": {
    "collapsed": false
   }
  },
  {
   "cell_type": "code",
   "execution_count": 3,
   "outputs": [],
   "source": [
    "# load model\n",
    "model = SentenceTransformer('multi-qa-mpnet-base-dot-v1')"
   ],
   "metadata": {
    "collapsed": false
   }
  },
  {
   "cell_type": "code",
   "execution_count": 4,
   "outputs": [
    {
     "name": "stderr",
     "output_type": "stream",
     "text": [
      "Token indices sequence length is longer than the specified maximum sequence length for this model (812 > 512). Running this sequence through the model will result in indexing errors\n"
     ]
    },
    {
     "name": "stdout",
     "output_type": "stream",
     "text": [
      "604 truncated train docs and 205 truncated test docs.\n"
     ]
    }
   ],
   "source": [
    "# check sequence length\n",
    "count_train = 0\n",
    "count_test = 0\n",
    "for _, r in data.iterrows():\n",
    "    t = len(model.tokenizer(r['doc_content'])['input_ids'])\n",
    "    if t > 512:\n",
    "        if _ > train.shape[0]:\n",
    "            count_test += 1\n",
    "        else:\n",
    "            count_train += 1\n",
    "print(f'{count_train} truncated train docs and {count_test} truncated test docs.')"
   ],
   "metadata": {
    "collapsed": false
   }
  }
 ],
 "metadata": {
  "kernelspec": {
   "display_name": "Python 3",
   "language": "python",
   "name": "python3"
  },
  "language_info": {
   "codemirror_mode": {
    "name": "ipython",
    "version": 2
   },
   "file_extension": ".py",
   "mimetype": "text/x-python",
   "name": "python",
   "nbconvert_exporter": "python",
   "pygments_lexer": "ipython2",
   "version": "2.7.6"
  }
 },
 "nbformat": 4,
 "nbformat_minor": 0
}
